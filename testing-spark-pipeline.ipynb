{
 "cells": [
  {
   "cell_type": "code",
   "execution_count": 95,
   "metadata": {},
   "outputs": [],
   "source": [
    "from pyspark.sql import SparkSession\n",
    "from pyspark.sql.functions import from_unixtime, col, udf\n",
    "from pyspark.sql.types import StringType\n",
    "import pickle\n",
    "import pandas as pd\n",
    "import nltk\n",
    "from nltk.corpus import stopwords\n",
    "from nltk.stem import WordNetLemmatizer\n",
    "from sklearn.feature_extraction.text import TfidfVectorizer\n",
    "\n",
    "from pyspark.sql import SparkSession\n",
    "\n",
    "# Create a SparkSession\n",
    "spark = SparkSession.builder \\\n",
    "    .appName(\"YourApp\") \\\n",
    "    .config(\"spark.executorEnv.PYSPARK_PYTHON\", \"C:\\\\Users\\\\HP\\\\AppData\\\\Local\\\\Programs\\\\Python\\\\Python310\\\\python.exe\") \\\n",
    "    .config(\"spark.executorEnv.PYSPARK_DRIVER_PYTHON\", \"C:\\\\Users\\\\HP\\\\AppData\\\\Local\\\\Programs\\\\Python\\\\Python310\\\\python.exe\") \\\n",
    "    .getOrCreate()"
   ]
  },
  {
   "cell_type": "code",
   "execution_count": 96,
   "metadata": {},
   "outputs": [],
   "source": [
    "# nltk.download('punkt')\n",
    "# nltk.download('stopwords')\n",
    "# nltk.download('wordnet')\n",
    "# lemmatizer = WordNetLemmatizer()\n",
    "# stop_words = set(stopwords.words('english'))\n",
    "# def preprocess_text_udf(text):\n",
    "#     tokens = nltk.word_tokenize(text.lower())\n",
    "#     tokens = [word for word in tokens if word.isalnum()]\n",
    "#     tokens = [lemmatizer.lemmatize(word) for word in tokens if word not in stop_words]\n",
    "#     return ' '.join(tokens)\n",
    "\n",
    "# # Register the UDF with Spark\n",
    "# preprocess_text_spark_udf = udf(preprocess_text_udf, StringType())"
   ]
  },
  {
   "cell_type": "code",
   "execution_count": 97,
   "metadata": {},
   "outputs": [],
   "source": [
    "df = spark.read.json(\"EDA/reddit-posts.json\")"
   ]
  },
  {
   "cell_type": "code",
   "execution_count": 98,
   "metadata": {},
   "outputs": [],
   "source": [
    "columns_to_keep = ['author_fullname', 'title', 'hide_score', 'name','link_flair_text_color', 'upvote_ratio', 'ups', 'total_awards_received',\n",
    "                    'link_flair_text', 'author_premium', 'edited', 'created','link_flair_type', 'no_follow', 'over_18','link_flair_background_color',\n",
    "                    'id', 'num_comments', 'send_replies', 'url', 'link_flair_template_id','author_cakeday']\n",
    "\n",
    "filtered_df = df[columns_to_keep]"
   ]
  },
  {
   "cell_type": "code",
   "execution_count": 99,
   "metadata": {},
   "outputs": [],
   "source": [
    "# Convert created (epoch format) --> timestamp:\n",
    "filtered_df = filtered_df.withColumn(\"created\", from_unixtime(col(\"created\")))"
   ]
  },
  {
   "cell_type": "code",
   "execution_count": 100,
   "metadata": {},
   "outputs": [],
   "source": [
    "# Create a copy of the original title\n",
    "filtered_df_copy_title = filtered_df.withColumn(\"original_title\", col(\"title\").alias(\"original_title\"))"
   ]
  },
  {
   "cell_type": "code",
   "execution_count": null,
   "metadata": {},
   "outputs": [],
   "source": []
  },
  {
   "cell_type": "code",
   "execution_count": 101,
   "metadata": {},
   "outputs": [
    {
     "name": "stdout",
     "output_type": "stream",
     "text": [
      "+---------------+--------------------+----------+----------+---------------------+------------+---+---------------------+--------------------+--------------+------+-------------------+---------------+---------+-------+---------------------------+-------+------------+------------+--------------------+----------------------+--------------+--------------------+\n",
      "|author_fullname|               title|hide_score|      name|link_flair_text_color|upvote_ratio|ups|total_awards_received|     link_flair_text|author_premium|edited|            created|link_flair_type|no_follow|over_18|link_flair_background_color|     id|num_comments|send_replies|                 url|link_flair_template_id|author_cakeday|      original_title|\n",
      "+---------------+--------------------+----------+----------+---------------------+------------+---+---------------------+--------------------+--------------+------+-------------------+---------------+---------+-------+---------------------------+-------+------------+------------+--------------------+----------------------+--------------+--------------------+\n",
      "|   t2_dp4v5ppv4|What is 70 Years ...|      true|t3_16ai7q2|                 dark|         1.0|  1|                    0|                null|         false| false|2023-09-05 10:14:30|           text|     true|  false|                           |16ai7q2|           0|        true|https://www.reddi...|                  null|          null|What is 70 Years ...|\n",
      "|   t2_buyarvi24|What was being a ...|      true|t3_16ai6wk|                 dark|         1.0|  1|                    0|                null|         false| false|2023-09-05 10:13:04|           text|     true|  false|                           |16ai6wk|           0|        true|https://www.reddi...|                  null|          null|What was being a ...|\n",
      "|    t2_50j8n3pr|How do you know m...|      true|t3_16ai6r2|                 dark|         1.0|  1|                    0|                null|         false| false|2023-09-05 10:12:49|           text|     true|  false|                           |16ai6r2|           1|        true|https://www.reddi...|                  null|          null|How do you know m...|\n",
      "|    t2_6e362qnc|What's the bigges...|      true|t3_16ai6he|                 dark|         1.0|  1|                    0|                null|         false| false|2023-09-05 10:12:20|           text|     true|  false|                           |16ai6he|           0|        true|https://www.reddi...|                  null|          null|What's the bigges...|\n",
      "|   t2_hwl3f6bt9|What is the most ...|      true|t3_16ai61f|                 dark|         1.0|  1|                    0|                null|         false| false|2023-09-05 10:11:34|           text|     true|  false|                           |16ai61f|           1|        true|https://www.reddi...|                  null|          null|What is the most ...|\n",
      "|   t2_j29khopik|What age should p...|      true|t3_16ai5tl|                 dark|         1.0|  1|                    0|                null|         false| false|2023-09-05 10:11:13|           text|     true|  false|                           |16ai5tl|           5|        true|https://www.reddi...|                  null|          null|What age should p...|\n",
      "|    t2_oesovuo2|teachers of reddi...|      true|t3_16ai5lh|                 dark|         0.5|  0|                    0|                null|         false| false|2023-09-05 10:10:51|           text|     true|   true|                           |16ai5lh|           0|        true|https://www.reddi...|                  null|          null|teachers of reddi...|\n",
      "|    t2_6e362qnc|[Serious] What's ...|      true|t3_16ai5kn|                light|         1.0|  1|                    0|Serious Replies Only|         false| false|2023-09-05 10:10:49|       richtext|     true|  false|                    #99c160|16ai5kn|           1|        true|https://www.reddi...|  54ea6bda-dcf0-11e...|          null|[Serious] What's ...|\n",
      "|   t2_i4n0j8jlt|Do you have a sec...|      true|t3_16ai5hz|                 dark|         1.0|  1|                    0|                null|         false| false|2023-09-05 10:10:42|           text|     true|  false|                           |16ai5hz|           2|        true|https://www.reddi...|                  null|          null|Do you have a sec...|\n",
      "|    t2_lzq5kmwx|What's a movie se...|      true|t3_16ai5g3|                 dark|         1.0|  1|                    0|                null|         false| false|2023-09-05 10:10:37|           text|     true|  false|                           |16ai5g3|           2|        true|https://www.reddi...|                  null|          null|What's a movie se...|\n",
      "|    t2_j7hpi4c2|If people see a a...|      true|t3_16ai4va|                 dark|         1.0|  1|                    0|                null|         false| false|2023-09-05 10:09:40|           text|     true|  false|                           |16ai4va|           4|        true|https://www.reddi...|                  null|          null|If people see a a...|\n",
      "|    t2_nitzwlkw|Redditors. What i...|      true|t3_16ai4hn|                 dark|         1.0|  1|                    0|                null|         false| false|2023-09-05 10:09:03|           text|     true|  false|                           |16ai4hn|           3|        true|https://www.reddi...|                  null|          null|Redditors. What i...|\n",
      "|   t2_e6x9gs6kh|If you could pull...|      true|t3_16ai3xz|                 dark|         1.0|  1|                    0|                null|         false| false|2023-09-05 10:08:03|           text|     true|  false|                           |16ai3xz|           1|        true|https://www.reddi...|                  null|          null|If you could pull...|\n",
      "|    t2_lr9h625i|What is your \"sec...|      true|t3_16ai3v4|                 dark|         1.0|  1|                    0|                null|         false| false|2023-09-05 10:07:54|           text|     true|  false|                           |16ai3v4|           3|        true|https://www.reddi...|                  null|          null|What is your \"sec...|\n",
      "|       t2_9ret9|What is 120 years...|      true|t3_16ai3v0|                 dark|         1.0|  1|                    0|                null|         false| false|2023-09-05 10:07:53|           text|     true|  false|                           |16ai3v0|           5|        true|https://www.reddi...|                  null|          null|What is 120 years...|\n",
      "|   t2_hwzcbpyz1|Who was your firs...|      true|t3_16ai3rd|                 dark|         1.0|  1|                    0|                null|         false| false|2023-09-05 10:07:43|           text|     true|  false|                           |16ai3rd|           2|        true|https://www.reddi...|                  null|          null|Who was your firs...|\n",
      "|    t2_raw8ac2d|What is a game yo...|      true|t3_16ai3hl|                 dark|         1.0|  1|                    0|                null|         false| false|2023-09-05 10:07:15|           text|     true|  false|                           |16ai3hl|           5|        true|https://www.reddi...|                  null|          null|What is a game yo...|\n",
      "|    t2_telaxo6h|What are youre th...|      true|t3_16ai3f3|                 dark|         1.0|  1|                    0|                null|         false| false|2023-09-05 10:07:08|           text|     true|  false|                           |16ai3f3|           3|        true|https://www.reddi...|                  null|          null|What are youre th...|\n",
      "|   t2_ivb1hama7|What’s the best s...|      true|t3_16ai3av|                 dark|         0.5|  0|                    0|                null|         false| false|2023-09-05 10:06:57|           text|     true|  false|                           |16ai3av|           1|        true|https://www.reddi...|                  null|          null|What’s the best s...|\n",
      "|    t2_8izs9uhz|What red flags in...|      true|t3_16ai3ak|                 dark|         0.5|  0|                    0|                null|         false| false|2023-09-05 10:06:56|           text|     true|  false|                           |16ai3ak|           2|        true|https://www.reddi...|                  null|          null|What red flags in...|\n",
      "+---------------+--------------------+----------+----------+---------------------+------------+---+---------------------+--------------------+--------------+------+-------------------+---------------+---------+-------+---------------------------+-------+------------+------------+--------------------+----------------------+--------------+--------------------+\n",
      "only showing top 20 rows\n",
      "\n"
     ]
    }
   ],
   "source": [
    "filtered_df_copy_title.show()"
   ]
  },
  {
   "cell_type": "code",
   "execution_count": 102,
   "metadata": {},
   "outputs": [],
   "source": [
    "# Preprocessing of the column title to better performance of the model \n",
    "\n",
    "# filtered_df_copy_title = filtered_df_copy_title.withColumn(\"title\", preprocess_text_spark_udf(col(\"original_title\")))"
   ]
  },
  {
   "cell_type": "code",
   "execution_count": 103,
   "metadata": {},
   "outputs": [],
   "source": [
    "from pyspark.sql import SparkSession\n",
    "from pyspark.ml.feature import Tokenizer, HashingTF, IDF\n",
    "from pyspark.sql.functions import udf\n",
    "from pyspark.sql.types import StringType\n",
    "import nltk\n",
    "from nltk.stem import WordNetLemmatizer\n",
    "from nltk.corpus import stopwords\n",
    "\n",
    "# Initialize SparkSession\n",
    "spark = SparkSession.builder.appName(\"TitleVectorization\").getOrCreate()\n",
    "\n",
    "# Assuming you have a DataFrame called filtered_df_copy_title\n",
    "title_data = filtered_df_copy_title.select(\"title\")\n",
    "\n",
    "# Define a UDF for preprocessing\n",
    "@udf(StringType())\n",
    "def preprocess_text_udf(text):\n",
    "    lemmatizer = WordNetLemmatizer()\n",
    "    stop_words = set(stopwords.words('english'))\n",
    "    tokens = nltk.word_tokenize(text.lower())\n",
    "    tokens = [word for word in tokens if word.isalnum()]\n",
    "    tokens = [lemmatizer.lemmatize(word) for word in tokens if word not in stop_words]\n",
    "    return ' '.join(tokens)\n",
    "\n",
    "# Apply the UDF to the DataFrame to get the preprocessed text\n",
    "title_data = title_data.withColumn(\"preprocessed_title\", preprocess_text_udf(title_data[\"title\"]))\n",
    "\n",
    "# Tokenize the \"preprocessed_title\" column\n",
    "tokenizer = Tokenizer(inputCol=\"preprocessed_title\", outputCol=\"words\")\n",
    "words_data = tokenizer.transform(title_data)\n",
    "\n",
    "# Apply HashingTF to get term frequencies\n",
    "hashingTF = HashingTF(inputCol=\"words\", outputCol=\"rawFeatures\", numFeatures=1500)\n",
    "featurized_data = hashingTF.transform(words_data)\n",
    "\n",
    "# Apply IDF to get TF-IDF vectors\n",
    "idf = IDF(inputCol=\"rawFeatures\", outputCol=\"tfidf_features\")\n",
    "idf_model = idf.fit(featurized_data)\n",
    "tfidf_vectors = idf_model.transform(featurized_data)"
   ]
  },
  {
   "cell_type": "code",
   "execution_count": 104,
   "metadata": {},
   "outputs": [
    {
     "name": "stdout",
     "output_type": "stream",
     "text": [
      "+--------------------+--------------------+--------------------+--------------------+--------------------+\n",
      "|               title|  preprocessed_title|               words|         rawFeatures|      tfidf_features|\n",
      "+--------------------+--------------------+--------------------+--------------------+--------------------+\n",
      "|What is 70 Years ...|       70 year young|   [70, year, young]|(1500,[399,857,13...|(1500,[399,857,13...|\n",
      "|What was being a ...|        teen 80 like|    [teen, 80, like]|(1500,[330,352,14...|(1500,[330,352,14...|\n",
      "|How do you know m...|   know mermaid real|[know, mermaid, r...|(1500,[924,1191,1...|(1500,[924,1191,1...|\n",
      "|What's the bigges...|biggest challenge...|[biggest, challen...|(1500,[38,408,598...|(1500,[38,408,598...|\n",
      "|What is the most ...|unexpected thing ...|[unexpected, thin...|(1500,[61,336,357...|(1500,[61,336,357...|\n",
      "|What age should p...|age people allowe...|[age, people, all...|(1500,[292,434,58...|(1500,[292,434,58...|\n",
      "|teachers of reddi...|teacher reddit ev...|[teacher, reddit,...|(1500,[555,704,70...|(1500,[555,704,70...|\n",
      "|[Serious] What's ...|serious biggest c...|[serious, biggest...|(1500,[38,117,408...|(1500,[38,117,408...|\n",
      "|Do you have a sec...|       secret fetish|    [secret, fetish]|(1500,[392,1305],...|(1500,[392,1305],...|\n",
      "|What's a movie se...|movie series star...|[movie, series, s...|(1500,[303,463,54...|(1500,[303,463,54...|\n",
      "|If people see a a...|people see accide...|[people, see, acc...|(1500,[27,153,249...|(1500,[27,153,249...|\n",
      "|Redditors. What i...|redditors best pi...|[redditors, best,...|(1500,[447,798,80...|(1500,[447,798,80...|\n",
      "|If you could pull...|could pull ultima...|[could, pull, ult...|(1500,[149,214,40...|(1500,[149,214,40...|\n",
      "|What is your \"sec...|secret achievemen...|[secret, achievem...|(1500,[169,392,55...|(1500,[169,392,55...|\n",
      "|What is 120 years...|        120 year old|    [120, year, old]|(1500,[122,399,58...|(1500,[122,399,58...|\n",
      "|Who was your firs...|         first crush|      [first, crush]|(1500,[403,1342],...|(1500,[403,1342],...|\n",
      "|What is a game yo...|game ca understan...|[game, ca, unders...|(1500,[304,379,54...|(1500,[304,379,54...|\n",
      "|What are youre th...|youre thought peo...|[youre, thought, ...|(1500,[59,555,724...|(1500,[59,555,724...|\n",
      "|What’s the best s...|best sub find som...|[best, sub, find,...|(1500,[487,873,10...|(1500,[487,873,10...|\n",
      "|What red flags in...|red flag people o...|[red, flag, peopl...|(1500,[432,507,72...|(1500,[432,507,72...|\n",
      "+--------------------+--------------------+--------------------+--------------------+--------------------+\n",
      "only showing top 20 rows\n",
      "\n"
     ]
    }
   ],
   "source": [
    "tfidf_vectors.show()"
   ]
  },
  {
   "cell_type": "code",
   "execution_count": 105,
   "metadata": {},
   "outputs": [],
   "source": [
    "# import joblib\n",
    "# trained_model = joblib.load(\"trained_model.joblib\")"
   ]
  },
  {
   "cell_type": "code",
   "execution_count": 118,
   "metadata": {},
   "outputs": [],
   "source": [
    "from pyspark.ml.linalg import DenseVector\n",
    "import numpy as np\n",
    "\n",
    "# Assuming tfidf_vectors is a PySpark DataFrame with a column named \"tfidf_features\"\n",
    "# Extract the \"tfidf_features\" column as a DenseVector\n",
    "tfidf_vectors_dense = tfidf_vectors.select(\"tfidf_features\").rdd.map(lambda x: x[0]).collect()\n",
    "\n",
    "# Convert the DenseVector to a list of NumPy arrays\n",
    "tfidf_vectors_numpy = [np.array(vec.toArray()) for vec in tfidf_vectors_dense]\n",
    "\n",
    "# Predict the category using the model\n",
    "predictions = [trained_model.predict(vec.reshape(1, -1)) for vec in tfidf_vectors_numpy]\n",
    "\n"
   ]
  },
  {
   "cell_type": "code",
   "execution_count": 117,
   "metadata": {},
   "outputs": [
    {
     "name": "stdout",
     "output_type": "stream",
     "text": [
      "+----------------------------------------------------------------------------------------------------------------------------------------------------------------------------------------------------------------------------------------------------------------------------+------------------+\n",
      "|original_title                                                                                                                                                                                                                                                              |predicted_category|\n",
      "+----------------------------------------------------------------------------------------------------------------------------------------------------------------------------------------------------------------------------------------------------------------------------+------------------+\n",
      "|What is 70 Years too young for ?                                                                                                                                                                                                                                            |job               |\n",
      "|What was being a teen in the 80s like?                                                                                                                                                                                                                                      |movie             |\n",
      "|How do you know mermaids are real?                                                                                                                                                                                                                                          |food              |\n",
      "|What's the biggest challenge you face when trying to improve your mental health and find happiness? What has hindered you or held you back?                                                                                                                                 |movie             |\n",
      "|What is the most unexpected thing you've found in an old book or hidden in the walls of a house?                                                                                                                                                                            |sexual            |\n",
      "|What age should people be allowed to drink alcohol in your opinion?                                                                                                                                                                                                         |movie             |\n",
      "|teachers of reddit, have you ever had sexual/romantic thoughts about a student? if so, what did you do?                                                                                                                                                                     |life              |\n",
      "|[Serious] What's the biggest challenge you face when trying to improve your mental health and find happiness? What has hindered you or held you back?                                                                                                                       |movie             |\n",
      "|Do you have a secret fetish, and what is it?                                                                                                                                                                                                                                |other             |\n",
      "|What's a movie series that started off great and then hit rock bottom?                                                                                                                                                                                                      |food              |\n",
      "|If people see a accidental person they started making video of him, instead of taking him to hospital, why ?                                                                                                                                                                |health            |\n",
      "|Redditors. What is the the best pizza crust dip?                                                                                                                                                                                                                            |sexual            |\n",
      "|If you could pull off the ultimate prank without any consequences, what would it be, and who would be your unsuspecting target?                                                                                                                                             |food              |\n",
      "|What is your \"secret achievement\" that youv'e never told anyone?                                                                                                                                                                                                            |movie             |\n",
      "|What is 120 years too old for?                                                                                                                                                                                                                                              |other             |\n",
      "|Who was your first crush?                                                                                                                                                                                                                                                   |movie             |\n",
      "|What is a game you can't understand people getting addicted to?                                                                                                                                                                                                             |money             |\n",
      "|What are youre thoughts on people living in a simulation?                                                                                                                                                                                                                   |sexual            |\n",
      "|What’s the best sub to find someone to sext?                                                                                                                                                                                                                                |sexual            |\n",
      "|What red flags in people are often overlooked?                                                                                                                                                                                                                              |game              |\n",
      "|People of reddit, How do you spend your money?                                                                                                                                                                                                                              |life              |\n",
      "|What is one thing that you wish your country did differently?                                                                                                                                                                                                               |relationships     |\n",
      "|Women of reddit what makes men unattractive ?                                                                                                                                                                                                                               |life              |\n",
      "|What business models do you think are unethical/predatory and why?                                                                                                                                                                                                          |game              |\n",
      "|You are given power to criminalize one legal activity. What are you making illegal?                                                                                                                                                                                         |job               |\n",
      "|Graphic designers, what is a regular day at work like for you? Any pros & cons?                                                                                                                                                                                             |would             |\n",
      "|People of reddit, how did you learn stop giving a f*ck about what others think about you?                                                                                                                                                                                   |life              |\n",
      "|Unmarried men of Reddit, what do you seek in to-be-Spouse?                                                                                                                                                                                                                  |life              |\n",
      "|People who seem older than they actually are, have you experienced any real world benefits because of it and why do you seem older than you actually are?                                                                                                                   |relationships     |\n",
      "|What are your thoughts on religion?                                                                                                                                                                                                                                         |other             |\n",
      "|How do you like to make your iced coffee?                                                                                                                                                                                                                                   |relationships     |\n",
      "|What will happen if science take control of the world?                                                                                                                                                                                                                      |food              |\n",
      "|What are some ways to grow confidence as an introvert who has been labelled “quiet” their whole life?                                                                                                                                                                       |kid               |\n",
      "|What is the best thing to do to entertain yourself through your insomnia?                                                                                                                                                                                                   |money             |\n",
      "|What are the stereotypes about countries/genders/anything that you initially had in mind but later found out to be false?                                                                                                                                                   |food              |\n",
      "|Married couples of reddit, when did you find out your partner was the one?                                                                                                                                                                                                  |life              |\n",
      "|What are you manifesting rn??                                                                                                                                                                                                                                               |tech              |\n",
      "|How do you make changes to your life that stick?                                                                                                                                                                                                                            |other             |\n",
      "|How did you deal with toxic parents who are now obsessed with your baby/ kids?                                                                                                                                                                                              |relationships     |\n",
      "|What branch of enthusiasm/subculture will you never get?                                                                                                                                                                                                                    |music             |\n",
      "|How did you meet your first love?                                                                                                                                                                                                                                           |job               |\n",
      "|What are some ways to grow confidence as an introvert that has been labelled as “quiet” their whole life?                                                                                                                                                                   |kid               |\n",
      "|If you could have any fictional character as your sidekick in everyday life, who would it be?                                                                                                                                                                               |kid               |\n",
      "|What are the books that helped you most with your relationship?                                                                                                                                                                                                             |would             |\n",
      "|What is this object that older people talk about and tell you that \"you're too young to have known it\"?                                                                                                                                                                     |food              |\n",
      "|When several conversations happen within earshot, can you block them out? What does that subjectively sound like?                                                                                                                                                           |food              |\n",
      "|How could it be valid/legal for a subreddit to make a rule saying you can't share contents posted on their subreddit for external use like podcast or other social media sharing?                                                                                           |kid               |\n",
      "|Have you ever had moments of silence on your first date ? And how you deal with this ?                                                                                                                                                                                      |job               |\n",
      "|Those of use who have used pharamone cologne/perfume in public how did that work out for you?                                                                                                                                                                               |media             |\n",
      "|How to keep conversion going with your love partner?                                                                                                                                                                                                                        |media             |\n",
      "|What is advice you give other people, but don’t adhere to yourself?                                                                                                                                                                                                         |food              |\n",
      "|what is going to happen in 2024 thats going to end the world?                                                                                                                                                                                                               |movie             |\n",
      "|How do you deal with Toilet anxiety?                                                                                                                                                                                                                                        |money             |\n",
      "|What people usually do in their first date ?                                                                                                                                                                                                                                |job               |\n",
      "|What do you do to overcome stress?                                                                                                                                                                                                                                          |book              |\n",
      "|Hey Who is somebody in your life who you secretly want to do it with?                                                                                                                                                                                                       |music             |\n",
      "|What's the one thing you can't forgive?                                                                                                                                                                                                                                     |other             |\n",
      "|If you could swap lives with any fictional character for a day, who would it be?                                                                                                                                                                                            |kid               |\n",
      "|What would you do if a friend betrayed you?                                                                                                                                                                                                                                 |food              |\n",
      "|What is the dumbest thing you ever did?                                                                                                                                                                                                                                     |kid               |\n",
      "|What's something you used to hate, but got really into later in life?                                                                                                                                                                                                       |other             |\n",
      "|Folks who’ve used those mail-order food sensitivity tests: how did it go?                                                                                                                                                                                                   |sexual            |\n",
      "|What's it like living with someone with ADHD?                                                                                                                                                                                                                               |sexual            |\n",
      "|Let's Assume, you have 5CR with you, what will you do with that Amount ??                                                                                                                                                                                                   |kid               |\n",
      "|What job are you NOT taking even if the salary sounds too good to be true?                                                                                                                                                                                                  |movie             |\n",
      "|What video game do you want to exist?                                                                                                                                                                                                                                       |music             |\n",
      "|Which is worse for a 20 year old . Drugs, Weed, Alcohol or something else?                                                                                                                                                                                                  |movie             |\n",
      "|Do you think popularity and fame of something equals its quality and being good? If yes or no, why?                                                                                                                                                                         |game              |\n",
      "|What is the MOST infuriating feeling in the entire universe?                                                                                                                                                                                                                |music             |\n",
      "|Which celebrity will disappoint you the most if you find out that if he/she turned out to be POS?                                                                                                                                                                           |relationships     |\n",
      "|What are the best series based on a true story you would 100% recommend?                                                                                                                                                                                                    |sexual            |\n",
      "|What's the most underwhelming Arts District / \"hipster part of town\" you've ever seen in any city?                                                                                                                                                                          |media             |\n",
      "|If Darth Vader appeared in London, how would people react?                                                                                                                                                                                                                  |sexual            |\n",
      "|How woocommerce accurate product data entry, businesses can unlock success and gain a competitive edge in e-commerce?                                                                                                                                                       |job               |\n",
      "|What injustices have you seen in society?                                                                                                                                                                                                                                   |food              |\n",
      "|Where can someone find computer game install files that can. Be downloaded on a phone and transferred with an sd?                                                                                                                                                           |music             |\n",
      "|What song is SO GOOD when you listen alone and not with someone else?                                                                                                                                                                                                       |media             |\n",
      "|For people who believe in an afterlife, how do you know that one exists?                                                                                                                                                                                                    |health            |\n",
      "|When does something become “too much”?                                                                                                                                                                                                                                      |health            |\n",
      "|NY, LA, Chicago has the strictest gun laws. It's almost impossible to get a gun if you are a law abiding citizen. Only people who have guns in these places are criminals-- People who think we should give up our guns, do you think the criminals will do the same thing ?|relationships     |\n",
      "|If you had a superpower based on your personality and not your preference what would it be?                                                                                                                                                                                 |tech              |\n",
      "|Who's your sniper using favourite character?                                                                                                                                                                                                                                |kid               |\n",
      "|What is your craziest drunk story?                                                                                                                                                                                                                                          |sexual            |\n",
      "|Redditors who live in Rural places, what are some of the weird and unexplainable things you’ve experienced?                                                                                                                                                                 |money             |\n",
      "|What do you think happened to all the pregnant women when Thanos snapped his fingers? Do the mothers just start coughing up ashes?                                                                                                                                          |sexual            |\n",
      "|What are your thoughts about the death penalty?                                                                                                                                                                                                                             |sexual            |\n",
      "|What do you think about Reddit’s karma?                                                                                                                                                                                                                                     |life              |\n",
      "|(serious) how did you or someone you know found out you/they had cancer?                                                                                                                                                                                                    |music             |\n",
      "|Who do you think is the darkhorse of NBA this season ?                                                                                                                                                                                                                      |other             |\n",
      "|Whose the nicest celebrity you have ever met?                                                                                                                                                                                                                               |money             |\n",
      "|What are the (common or uncommon) signs that an adult had suffer traumatic brain injury as a young child?                                                                                                                                                                   |food              |\n",
      "|Since it's Harry Potter Saga's season, what are the best fun facts or interesting theories about the series ?                                                                                                                                                               |job               |\n",
      "|What do you think about owning guns?                                                                                                                                                                                                                                        |health            |\n",
      "|What was \"better-than-expected\" story?                                                                                                                                                                                                                                      |other             |\n",
      "|What are you supposed to do if your orkish horde went on strike due to a lack of looting and pillaging activities in recent months, and now they are not even listening to your orders to ravage the nearby kingdom(yeah, they are not the brightest)?                      |food              |\n",
      "|[Serious] Does blood relation matter to you? Why or why not?                                                                                                                                                                                                                |life              |\n",
      "|Americans of reddit, why do you identify so heavily based on your ancestry?                                                                                                                                                                                                 |life              |\n",
      "|You work 70 hours a week. How can you spend your free time to increase your capacity?                                                                                                                                                                                       |job               |\n",
      "|People on Reddit: when did you knew you fell in love and that \"that's it\"?                                                                                                                                                                                                  |life              |\n",
      "|How would you try to kill Koro Sensei?                                                                                                                                                                                                                                      |kid               |\n",
      "+----------------------------------------------------------------------------------------------------------------------------------------------------------------------------------------------------------------------------------------------------------------------------+------------------+\n",
      "only showing top 100 rows\n",
      "\n"
     ]
    }
   ],
   "source": [
    "# filtered_df_copy_title_category.select(col(\"original_title\"),col(\"predicted_category\")).show(100,truncate=False)\n"
   ]
  },
  {
   "cell_type": "code",
   "execution_count": null,
   "metadata": {},
   "outputs": [],
   "source": []
  }
 ],
 "metadata": {
  "kernelspec": {
   "display_name": "venv",
   "language": "python",
   "name": "python3"
  },
  "language_info": {
   "codemirror_mode": {
    "name": "ipython",
    "version": 3
   },
   "file_extension": ".py",
   "mimetype": "text/x-python",
   "name": "python",
   "nbconvert_exporter": "python",
   "pygments_lexer": "ipython3",
   "version": "3.10.7"
  },
  "orig_nbformat": 4
 },
 "nbformat": 4,
 "nbformat_minor": 2
}
