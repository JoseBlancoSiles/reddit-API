{
 "cells": [
  {
   "cell_type": "markdown",
   "metadata": {},
   "source": [
    "# Clustering categories of Reddit questions"
   ]
  },
  {
   "cell_type": "code",
   "execution_count": 1,
   "metadata": {},
   "outputs": [
    {
     "name": "stderr",
     "output_type": "stream",
     "text": [
      "[nltk_data] Downloading package stopwords to\n",
      "[nltk_data]     C:\\Users\\HP\\AppData\\Roaming\\nltk_data...\n",
      "[nltk_data]   Package stopwords is already up-to-date!\n",
      "[nltk_data] Downloading package punkt to\n",
      "[nltk_data]     C:\\Users\\HP\\AppData\\Roaming\\nltk_data...\n",
      "[nltk_data]   Package punkt is already up-to-date!\n",
      "c:\\Users\\JoseSiles\\reddit-API\\venv\\lib\\site-packages\\tqdm\\auto.py:21: TqdmWarning: IProgress not found. Please update jupyter and ipywidgets. See https://ipywidgets.readthedocs.io/en/stable/user_install.html\n",
      "  from .autonotebook import tqdm as notebook_tqdm\n"
     ]
    }
   ],
   "source": [
    "# libraries\n",
    "\n",
    "# nltk\n",
    "from nltk.tokenize import word_tokenize\n",
    "from nltk.corpus import stopwords\n",
    "import nltk\n",
    "\n",
    "nltk.download(\"stopwords\")\n",
    "nltk.download(\"punkt\")\n",
    "\n",
    "# other\n",
    "from bertopic import BERTopic\n",
    "import pandas as pd\n",
    "import string"
   ]
  },
  {
   "cell_type": "code",
   "execution_count": 2,
   "metadata": {},
   "outputs": [],
   "source": [
    "# functions\n",
    "\n",
    "# Define a function to preprocess a single title\n",
    "def preprocess(title):\n",
    "  '''Clean and tokenize the title'''\n",
    "  tokens = word_tokenize(title.lower())\n",
    "  tokens = [word for word in tokens if word not in stopwords.words(\"english\") and word not in string.punctuation]\n",
    "  return \" \".join(tokens)"
   ]
  },
  {
   "cell_type": "code",
   "execution_count": 3,
   "metadata": {},
   "outputs": [],
   "source": [
    "df = pd.read_csv(\"raw-dataset-reddit.csv\")\n",
    "titles = df[\"title\"].tolist()\n",
    "\n",
    "preprocessed_titles = [preprocess(title) for title in titles]"
   ]
  },
  {
   "cell_type": "code",
   "execution_count": 4,
   "metadata": {},
   "outputs": [
    {
     "name": "stdout",
     "output_type": "stream",
     "text": [
      "{0: 'life', 1: 'men', 2: 'lie', 3: 'kids', 4: 'friend', 5: 'food', 6: 'song', 7: 'money', 8: 'would', 9: 'job', 10: 'subreddit', 11: 'city', 12: 'anxiety', 13: 'movie', 14: 'celebrity', 15: 'old', 16: 'sleep', 17: 'phone', 18: 'smell', 19: 'say', 20: 'fitness', 21: 'habit', 22: 'house', 23: 'pet', 24: 'medical', 25: 'color', 26: 'religion', 27: 'death', 28: 'law', 29: 'gift', 30: 'learn', 31: 'book', 32: 'karma', 33: 'india', 34: 'opinion', 35: 'name', 36: 'tip', 37: 'shave', 38: 'society', -1: 'random'}\n"
     ]
    }
   ],
   "source": [
    "# Apply BERTopic to create clusters based on the titles\n",
    "model = BERTopic(nr_topics=40)\n",
    "topics, _ = model.fit_transform(preprocessed_titles)\n",
    "\n",
    "# Get the topic names by iterating through the topics\n",
    "topic_names = {}\n",
    "for topic_id in set(topics):\n",
    "  if topic_id == -1:\n",
    "    topic_names[topic_id] = \"random\"\n",
    "  else:\n",
    "    topic_words = model.get_topic(topic_id)\n",
    "    topic_name = topic_words[0][0]  # Extract the first word from the tuple as the topic name\n",
    "    topic_names[topic_id] = topic_name"
   ]
  },
  {
   "cell_type": "code",
   "execution_count": null,
   "metadata": {},
   "outputs": [],
   "source": [
    "print(topic_names)"
   ]
  }
 ],
 "metadata": {
  "kernelspec": {
   "display_name": "venv",
   "language": "python",
   "name": "python3"
  },
  "language_info": {
   "codemirror_mode": {
    "name": "ipython",
    "version": 3
   },
   "file_extension": ".py",
   "mimetype": "text/x-python",
   "name": "python",
   "nbconvert_exporter": "python",
   "pygments_lexer": "ipython3",
   "version": "3.10.7"
  },
  "orig_nbformat": 4
 },
 "nbformat": 4,
 "nbformat_minor": 2
}
